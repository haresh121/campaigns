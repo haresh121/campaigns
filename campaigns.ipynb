{
 "cells": [
  {
   "cell_type": "code",
   "execution_count": 1,
   "metadata": {
    "tags": [
     "imports"
    ]
   },
   "outputs": [],
   "source": [
    "import pandas as pd\n",
    "import json\n",
    "from datetime import datetime\n",
    "from random import randint\n",
    "def mask(df, key, value):\n",
    "    return df[df[key] == value]\n",
    "pd.DataFrame.mask = mask"
   ]
  },
  {
   "cell_type": "code",
   "execution_count": 2,
   "metadata": {
    "tags": [
     "imports"
    ]
   },
   "outputs": [],
   "source": [
    "class AdSlots():\n",
    "    total = 100\n",
    "    slots = 3"
   ]
  },
  {
   "cell_type": "code",
   "execution_count": 33,
   "metadata": {},
   "outputs": [],
   "source": [
    "class User(object):\n",
    "    def __init__(self, request):\n",
    "        # request ==> { 'query':'Samsung TV', 'query_type':'Television', 'adslots':Object::AdSlots }\n",
    "        assert type(request) == dict\n",
    "        self.request = request\n",
    "        self.req_id = randint(1000000000, 1999999999)\n",
    "        self.time = datetime.now()\n",
    "    def get_response(self):\n",
    "        # in here we create a response object and return it to the respective function call\n",
    "        auction = Auction(self.request)\n",
    "        auction.targeting()\n",
    "        auction.run_auction()\n",
    "        return auction\n",
    "    def get_targeting(self):\n",
    "        # here we return the targeting clauses for the respective class of query such as televisions , utensils etc ....\n",
    "        # returns a list of targeting clauses extracted from a csv file for the respective query_type\n",
    "        with open('ads.json') as ads:\n",
    "            ad_data = json.load(ads)\n",
    "        targeting_clauses = []\n",
    "        for i in ad_data[self.request[\"query_type\"]]:\n",
    "            targeting_clauses.extend(list(j.lower() for j in i[\"matchClauses\"]))\n",
    "        \n",
    "        return targeting_clauses\n",
    "\n",
    "class Auction(object):\n",
    "    def __init__(self, request):\n",
    "        self.request = User(request)\n",
    "        self.candidates = self.get_auction_participants()\n",
    "        self.targeting_clauses = self.request.get_targeting()\n",
    "        self.positives = dict(zip(self.targeting_clauses, [0]*len(self.targeting_clauses)))\n",
    "        self.winners = {}\n",
    "    def targeting(self):\n",
    "        for i in self.targeting_clauses:\n",
    "            self.get_(self.request.request['query'], i)\n",
    "        print(f\"Targeting clauses filtered with the following response ==> \\n`{str(self.positives)}`\")\n",
    "    def get_(self, q, tc):\n",
    "        # comparision of the query and the targeting clause goes here \n",
    "        # A mock of switch case goes here\n",
    "        q = q.lower()\n",
    "        if q == tc or q in tc:\n",
    "            self.positives[tc] = 1\n",
    "        elif self.request.request['query_type']:\n",
    "            self.positives[tc] = -1\n",
    "        else:\n",
    "            pass\n",
    "    def get_auction_participants(self):\n",
    "        total = pd.read_csv('auction-participants.csv')\n",
    "#         print(total.mask('type', \" \"+self.request.request['query_type']))\n",
    "        auc_participants = total.mask('type', \" \"+self.request.request['query_type'])\n",
    "        return auc_participants\n",
    "    def run_auction(self):\n",
    "        with open('ads.json') as ads:\n",
    "            ad_data = json.load(ads)\n",
    "\n",
    "        for i in self.positives.keys():\n",
    "#             print(self.positives)\n",
    "            if self.positives[i] != 0 and self.positives[i] == 1:\n",
    "                # the given query has a perfect match within the db\n",
    "                for j in ad_data[self.request.request['query_type']]:\n",
    "                    dat = list(x.lower() for x in j['matchClauses'])\n",
    "                    if i in dat:\n",
    "                        try:\n",
    "                            self.winners[j['campId']] = int(self.candidates.mask('campaign_id', int(j['campId']))['bid'])\n",
    "                        except Exception as e:\n",
    "                            pass\n",
    "            # broad will be written soon\n",
    "        \n",
    "        let = sorted(self.winners, key=self.winners.get)[::-1][0:self.request.request['adslots'].slots]\n",
    "        self.winners = {i:self.winners[i] for i in let }\n"
   ]
  },
  {
   "cell_type": "code",
   "execution_count": 34,
   "metadata": {},
   "outputs": [],
   "source": [
    "class Campaigns(object):\n",
    "    def __init__(self, cid, budget):\n",
    "        self.cid = cid\n",
    "        self.budget = budget"
   ]
  },
  {
   "cell_type": "code",
   "execution_count": 35,
   "metadata": {},
   "outputs": [],
   "source": [
    "adslots = AdSlots()\n",
    "query = {'query': 'TV', 'query_type': \"Television\", 'adslots':adslots}\n",
    "user = User(query)"
   ]
  },
  {
   "cell_type": "code",
   "execution_count": 36,
   "metadata": {},
   "outputs": [
    {
     "name": "stdout",
     "output_type": "stream",
     "text": [
      "Targeting clauses filtered with the following response ==> \n",
      "`{'sanyo': -1, 'sanyo tv': 1, 'sanya tv': 1, 'sanyo 32 inch tv': 1, 'lg': -1, 'lg tv': 1, 'lg 32 inch tv': 1}`\n"
     ]
    }
   ],
   "source": [
    "auction = user.get_response()"
   ]
  },
  {
   "cell_type": "code",
   "execution_count": 37,
   "metadata": {},
   "outputs": [
    {
     "data": {
      "text/plain": [
       "{1002: 12000, 1000: 9000, 1005: 8000}"
      ]
     },
     "execution_count": 37,
     "metadata": {},
     "output_type": "execute_result"
    }
   ],
   "source": [
    "auction.winners"
   ]
  }
 ],
 "metadata": {
  "kernelspec": {
   "display_name": "Python 3",
   "language": "python",
   "name": "python3"
  },
  "language_info": {
   "codemirror_mode": {
    "name": "ipython",
    "version": 3
   },
   "file_extension": ".py",
   "mimetype": "text/x-python",
   "name": "python",
   "nbconvert_exporter": "python",
   "pygments_lexer": "ipython3",
   "version": "3.7.7"
  }
 },
 "nbformat": 4,
 "nbformat_minor": 4
}
